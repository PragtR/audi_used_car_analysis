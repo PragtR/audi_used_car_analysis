{
 "cells": [
  {
   "cell_type": "markdown",
   "id": "ff02fdbd",
   "metadata": {},
   "source": [
    "# Visualising a dataset consisting a list of used Audi cars\n",
    "\n",
    "### Task: \n",
    "1. Create a Pie Chart and a barplot for any categorical variable. Compare which plot is better and why? Use markdown cells to write your explanations. \n",
    "2. Make sure you have a proper title, xlabel, ylabel, xticks, yticks, and figure size which will represent an example of good data visualization."
   ]
  },
  {
   "cell_type": "markdown",
   "id": "1c035afe",
   "metadata": {},
   "source": [
    "### Importing required libraries"
   ]
  },
  {
   "cell_type": "code",
   "execution_count": 1,
   "id": "4009f8f3",
   "metadata": {},
   "outputs": [],
   "source": [
    "# for data analysis\n",
    "import numpy as np\n",
    "import pandas as pd\n",
    "\n",
    "# for data visualization\n",
    "import matplotlib.pyplot as plt\n",
    "import seaborn as sns"
   ]
  },
  {
   "cell_type": "markdown",
   "id": "2c29273f",
   "metadata": {},
   "source": [
    "### Reading the data"
   ]
  },
  {
   "cell_type": "code",
   "execution_count": 2,
   "id": "5152b983",
   "metadata": {},
   "outputs": [],
   "source": [
    "df = pd.read_csv(\"audi.csv\")"
   ]
  },
  {
   "cell_type": "code",
   "execution_count": 3,
   "id": "9c3f6fa4",
   "metadata": {
    "scrolled": true
   },
   "outputs": [
    {
     "name": "stdout",
     "output_type": "stream",
     "text": [
      "<class 'pandas.core.frame.DataFrame'>\n",
      "RangeIndex: 10668 entries, 0 to 10667\n",
      "Data columns (total 8 columns):\n",
      " #   Column        Non-Null Count  Dtype  \n",
      "---  ------        --------------  -----  \n",
      " 0   model         10668 non-null  object \n",
      " 1   year          10668 non-null  int64  \n",
      " 2   price         10668 non-null  int64  \n",
      " 3   transmission  10668 non-null  object \n",
      " 4   mileage       10668 non-null  int64  \n",
      " 5   fuelType      10668 non-null  object \n",
      " 6   mpg           10668 non-null  float64\n",
      " 7   engineSize    10668 non-null  float64\n",
      "dtypes: float64(2), int64(3), object(3)\n",
      "memory usage: 666.9+ KB\n"
     ]
    }
   ],
   "source": [
    "df.info() #to see if any missing values"
   ]
  },
  {
   "cell_type": "markdown",
   "id": "c33ae3fb",
   "metadata": {},
   "source": [
    "# *Pie chart of a categorical variable*"
   ]
  },
  {
   "cell_type": "code",
   "execution_count": 4,
   "id": "aa82dbca",
   "metadata": {},
   "outputs": [
    {
     "name": "stdout",
     "output_type": "stream",
     "text": [
      "Diesel    5577\n",
      "Petrol    5063\n",
      "Hybrid      28\n",
      "Name: fuelType, dtype: int64\n"
     ]
    }
   ],
   "source": [
    "print(df[\"fuelType\"].value_counts())"
   ]
  },
  {
   "cell_type": "code",
   "execution_count": 5,
   "id": "900fd7b6",
   "metadata": {},
   "outputs": [
    {
     "data": {
      "image/png": "[encoded data removed]",
      "text/plain": [
       "<Figure size 432x288 with 1 Axes>"
      ]
     },
     "metadata": {},
     "output_type": "display_data"
    }
   ],
   "source": [
    "df[\"fuelType\"].value_counts().plot(kind=\"pie\", \n",
    "                                       autopct='%1.1f%%', \n",
    "                                       startangle=180)\n",
    "plt.ylabel(\"\")\n",
    "plt.xlabel(\"Percentage of fuel types\")\n",
    "plt.show()"
   ]
  },
  {
   "cell_type": "markdown",
   "id": "288e69b2",
   "metadata": {},
   "source": [
    "# *Barplot of a categorical variable*"
   ]
  },
  {
   "cell_type": "code",
   "execution_count": 6,
   "id": "6d6fc977",
   "metadata": {},
   "outputs": [
    {
     "data": {
      "text/html": [
       "<div>\n",
       "<style scoped>\n",
       "    .dataframe tbody tr th:only-of-type {\n",
       "        vertical-align: middle;\n",
       "    }\n",
       "\n",
       "    .dataframe tbody tr th {\n",
       "        vertical-align: top;\n",
       "    }\n",
       "\n",
       "    .dataframe thead th {\n",
       "        text-align: right;\n",
       "    }\n",
       "</style>\n",
       "<table border=\"1\" class=\"dataframe\">\n",
       "  <thead>\n",
       "    <tr style=\"text-align: right;\">\n",
       "      <th></th>\n",
       "      <th>fuelType</th>\n",
       "      <th>no_of_cars</th>\n",
       "      <th>% of cars</th>\n",
       "    </tr>\n",
       "  </thead>\n",
       "  <tbody>\n",
       "    <tr>\n",
       "      <th>0</th>\n",
       "      <td>Diesel</td>\n",
       "      <td>5577</td>\n",
       "      <td>52.28</td>\n",
       "    </tr>\n",
       "    <tr>\n",
       "      <th>1</th>\n",
       "      <td>Petrol</td>\n",
       "      <td>5063</td>\n",
       "      <td>47.46</td>\n",
       "    </tr>\n",
       "    <tr>\n",
       "      <th>2</th>\n",
       "      <td>Hybrid</td>\n",
       "      <td>28</td>\n",
       "      <td>0.26</td>\n",
       "    </tr>\n",
       "  </tbody>\n",
       "</table>\n",
       "</div>"
      ],
      "text/plain": [
       "  fuelType  no_of_cars  % of cars\n",
       "0   Diesel        5577      52.28\n",
       "1   Petrol        5063      47.46\n",
       "2   Hybrid          28       0.26"
      ]
     },
     "metadata": {},
     "output_type": "display_data"
    }
   ],
   "source": [
    "df_fuelType = pd.DataFrame(df[\"fuelType\"].value_counts())\n",
    "df_fuelType = df_fuelType.reset_index()\n",
    "df_fuelType = df_fuelType.rename(columns={\"index\":\"fuelType\",\n",
    "                                          \"fuelType\":\"no_of_cars\"})\n",
    "\n",
    "df_fuelType[\"% of cars\"] = (df_fuelType[\"no_of_cars\"]/df.shape[0])*100\n",
    "df_fuelType = df_fuelType.round(2)\n",
    "\n",
    "\n",
    "display(df_fuelType)"
   ]
  },
  {
   "cell_type": "markdown",
   "id": "f6b93c1d",
   "metadata": {},
   "source": [
    "### Final plot:"
   ]
  },
  {
   "cell_type": "code",
   "execution_count": 7,
   "id": "60a58d06",
   "metadata": {},
   "outputs": [
    {
     "data": {
      "image/png": "[encoded data removed]",
      "text/plain": [
       "<Figure size 432x288 with 1 Axes>"
      ]
     },
     "metadata": {
      "needs_background": "light"
     },
     "output_type": "display_data"
    }
   ],
   "source": [
    "plot = sns.barplot(x=\"fuelType\", \n",
    "            y=\"% of cars\", \n",
    "            data=df_fuelType, \n",
    "            color=\"darkgreen\",\n",
    "            alpha=0.5)\n",
    "\n",
    "#For adding annotations:\n",
    "for p in plot.patches:\n",
    "    plot.annotate(format(p.get_height(), '.1f'), \n",
    "                   (p.get_x() + p.get_width() / 2., p.get_height()), \n",
    "                   ha = 'center', va = 'center', \n",
    "                   xytext = (0, 9), \n",
    "                   textcoords = 'offset points')\n",
    "\n",
    "\n",
    "plt.xlabel(\"Types of fuel\")\n",
    "plt.ylabel(\"% of cars\")\n",
    "plt.title(\"Percentage of cars present in every fuel type\")\n",
    "\n",
    "plt.yticks(np.arange(0,70,10))\n",
    "\n",
    "#show_values (plot)\n",
    "plt.show()"
   ]
  },
  {
   "cell_type": "markdown",
   "id": "a5f76dad",
   "metadata": {},
   "source": [
    "## So the question is: Which plot is better?\n",
    "I think that the barplot does a better job here in showing the percentage values of cars with a certain fuel type. This is because the hybrid portion in the pie chart is almost invisible as it covers a very less amount of area in the circle. On the other hand, in barplot there is a dedicated bar region for Hybrid cars even though it is very small. This way the barplot properly shows the presence of cars with Hybrid fuel type."
   ]
  }
 ],
 "metadata": {
  "kernelspec": {
   "display_name": "Python 3",
   "language": "python",
   "name": "python3"
  },
  "language_info": {
   "codemirror_mode": {
    "name": "ipython",
    "version": 3
   },
   "file_extension": ".py",
   "mimetype": "text/x-python",
   "name": "python",
   "nbconvert_exporter": "python",
   "pygments_lexer": "ipython3",
   "version": "3.8.8"
  }
 },
 "nbformat": 4,
 "nbformat_minor": 5
}
